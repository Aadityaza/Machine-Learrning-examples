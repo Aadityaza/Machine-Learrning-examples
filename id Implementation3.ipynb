{
  "nbformat": 4,
  "nbformat_minor": 0,
  "metadata": {
    "colab": {
      "provenance": []
    },
    "kernelspec": {
      "name": "python3",
      "display_name": "Python 3"
    },
    "language_info": {
      "name": "python"
    }
  },
  "cells": [
    {
      "cell_type": "code",
      "execution_count": null,
      "metadata": {
        "id": "HBIDqTyOzHKL"
      },
      "outputs": [],
      "source": [
        "#@title import \n",
        "import numpy as np\n"
      ]
    },
    {
      "cell_type": "code",
      "source": [
        "#@title load data\n",
        "X_train = np.array([[1,1,1],[1,0,1],[1,0,0],[1,0,0],[1,1,1],[0,1,1],[0,0,0],[1,0,1],[0,1,0],[1,0,0]])\n",
        "y_train = np.array([1,1,0,0,1,0,0,1,1,0])\n",
        "root_indices = [0, 1, 2, 3, 4, 5, 6, 7, 8, 9]"
      ],
      "metadata": {
        "id": "ipbNgWJ1hOMc"
      },
      "execution_count": null,
      "outputs": []
    },
    {
      "cell_type": "code",
      "source": [
        "#@title Compute entropy\n",
        "def compute_entropy(y):\n",
        "      entropy = 0.\n",
        "    \n",
        "      if len(y)==0:\n",
        "          entropy=0\n",
        "      else:\n",
        "          count=0\n",
        "          for i in y:\n",
        "              if i==1:\n",
        "                  count+=1\n",
        "          p1=count/len(y)\n",
        "          if p1==0 or p1==1:\n",
        "              return 0\n",
        "          entropy=(-p1*np.log2(p1))-((1-p1)*np.log2(1-p1))\n",
        "            \n",
        "      return entropy"
      ],
      "metadata": {
        "id": "LbgWQlFufTYJ"
      },
      "execution_count": null,
      "outputs": []
    },
    {
      "cell_type": "code",
      "source": [
        "#@title split data\n",
        "def split_dataset(X, node_indices, feature):\n",
        "\n",
        "    \n",
        "    left_indices = []\n",
        "    right_indices = []\n",
        "    n,m=X.shape\n",
        "    for i in range(n):\n",
        "        if i in node_indices:\n",
        "            if X[i][feature]==1:\n",
        "                left_indices.append(i)\n",
        "            else:\n",
        "                right_indices.append(i)\n",
        "        \n",
        "    return left_indices, right_indices"
      ],
      "metadata": {
        "id": "SKTOYMiGgNFE"
      },
      "execution_count": null,
      "outputs": []
    },
    {
      "cell_type": "code",
      "source": [
        "#@title Calculate IG\n",
        "def compute_information_gain(X, y, node_indices, feature):\n",
        "    \n",
        "    # Split dataset\n",
        "    left_indices, right_indices = split_dataset(X, node_indices, feature)\n",
        "    \n",
        "    # Some useful variables\n",
        "    X_node, y_node = X[node_indices], y[node_indices]\n",
        "    X_left, y_left = X[left_indices], y[left_indices]\n",
        "    X_right, y_right = X[right_indices], y[right_indices]\n",
        "    \n",
        "   \n",
        "    information_gain = 0\n",
        "    wl=len(y_left)/len(y_node)\n",
        "    wr=len(y_right)/len(y_node)\n",
        "    \n",
        "    \n",
        "    information_gain= compute_entropy(y_node)-((wl*compute_entropy(y_left))+(wr*compute_entropy(y_right)))\n",
        "  \n",
        "    return information_gain"
      ],
      "metadata": {
        "id": "0u-xpyPagbFO"
      },
      "execution_count": null,
      "outputs": []
    },
    {
      "cell_type": "code",
      "source": [
        "#@title Find best feature\n",
        "def get_best_split(X, y, node_indices):   \n",
        "    \n",
        "    num_features = X.shape[1]\n",
        "    \n",
        "    # You need to return the following variables correctly\n",
        "    best_feature = -1\n",
        "    is_pure=True\n",
        "    one_present=False\n",
        "    zero_present=False\n",
        "    for i in y:\n",
        "        if i==1:\n",
        "            one_present=True\n",
        "        if i==0:\n",
        "            zero_present=True\n",
        "    if one_present and zero_present:\n",
        "        is_pure=False\n",
        "    if len(node_indices)<=1 or is_pure:\n",
        "        return best_feature\n",
        "    else:\n",
        "        info_gain =[]\n",
        "        for i in range (num_features):\n",
        "            info_gain.append((compute_information_gain(X, y, node_indices, i)))\n",
        "\n",
        "        best_infp_gain = max(info_gain)\n",
        "        best_feature = info_gain.index(best_infp_gain)\n",
        "        \n",
        "    \n",
        "   \n",
        "    return best_feature"
      ],
      "metadata": {
        "id": "kogR89Ahgqfk"
      },
      "execution_count": null,
      "outputs": []
    },
    {
      "cell_type": "code",
      "source": [
        "#@title Create tree\n",
        "tree = []\n",
        "\n",
        "def build_tree_recursive(X, y, node_indices, branch_name, max_depth, current_depth):\n",
        "    # Maximum depth reached - stop splitting\n",
        "    if current_depth == max_depth:\n",
        "        formatting = \" \"*current_depth + \"-\"*current_depth\n",
        "        print(formatting, \"%s leaf node with indices\" % branch_name, node_indices)\n",
        "        return\n",
        "   \n",
        "    # Otherwise, get best split and split the data\n",
        "    # Get the best feature at this node\n",
        "    best_feature = get_best_split(X, y, node_indices) \n",
        "    \n",
        "    formatting = \"-\"*current_depth\n",
        "    print(\"%s Depth %d, %s: Split on feature: %d\" % (formatting, current_depth, branch_name, best_feature))\n",
        "    \n",
        "    # Split the dataset at the best feature\n",
        "    left_indices, right_indices = split_dataset(X, node_indices, best_feature)\n",
        "    tree.append((left_indices, right_indices, best_feature))\n",
        "    \n",
        "    # continue splitting the left and the right child. Increment current depth\n",
        "    build_tree_recursive(X, y, left_indices, \"Left\", max_depth, current_depth+1)\n",
        "    build_tree_recursive(X, y, right_indices, \"Right\", max_depth, current_depth+1)"
      ],
      "metadata": {
        "id": "syLmhjw4hAiQ"
      },
      "execution_count": null,
      "outputs": []
    },
    {
      "cell_type": "code",
      "source": [
        "build_tree_recursive(X_train, y_train, root_indices, \"Root\", max_depth=2, current_depth=0)"
      ],
      "metadata": {
        "colab": {
          "base_uri": "https://localhost:8080/"
        },
        "id": "UXF5BBL9hDSl",
        "outputId": "6d3bb6fa-daf6-4e49-b47f-a596ced71372"
      },
      "execution_count": null,
      "outputs": [
        {
          "output_type": "stream",
          "name": "stdout",
          "text": [
            " Depth 0, Root: Split on feature: 2\n",
            "- Depth 1, Left: Split on feature: 0\n",
            "  -- Left leaf node with indices [0, 1, 4, 7]\n",
            "  -- Right leaf node with indices [5]\n",
            "- Depth 1, Right: Split on feature: 1\n",
            "  -- Left leaf node with indices [8]\n",
            "  -- Right leaf node with indices [2, 3, 6, 9]\n"
          ]
        }
      ]
    }
  ]
}