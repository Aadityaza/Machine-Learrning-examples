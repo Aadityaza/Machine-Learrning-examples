{
 "cells": [
  {
   "cell_type": "code",
   "execution_count": 1,
   "id": "dceb16a0-1156-4d47-aac4-dfa354400010",
   "metadata": {},
   "outputs": [
    {
     "name": "stdout",
     "output_type": "stream",
     "text": [
      "Requirement already satisfied: transformers in c:\\users\\aadit\\appdata\\local\\programs\\python\\python310\\lib\\site-packages (4.38.2)\n",
      "Requirement already satisfied: filelock in c:\\users\\aadit\\appdata\\local\\programs\\python\\python310\\lib\\site-packages (from transformers) (3.9.0)\n",
      "Requirement already satisfied: huggingface-hub<1.0,>=0.19.3 in c:\\users\\aadit\\appdata\\local\\programs\\python\\python310\\lib\\site-packages (from transformers) (0.21.4)\n",
      "Requirement already satisfied: numpy>=1.17 in c:\\users\\aadit\\appdata\\local\\programs\\python\\python310\\lib\\site-packages (from transformers) (1.26.4)\n",
      "Requirement already satisfied: packaging>=20.0 in c:\\users\\aadit\\appdata\\local\\programs\\python\\python310\\lib\\site-packages (from transformers) (23.2)\n",
      "Requirement already satisfied: pyyaml>=5.1 in c:\\users\\aadit\\appdata\\local\\programs\\python\\python310\\lib\\site-packages (from transformers) (6.0.1)\n",
      "Requirement already satisfied: regex!=2019.12.17 in c:\\users\\aadit\\appdata\\local\\programs\\python\\python310\\lib\\site-packages (from transformers) (2023.12.25)\n",
      "Requirement already satisfied: requests in c:\\users\\aadit\\appdata\\local\\programs\\python\\python310\\lib\\site-packages (from transformers) (2.31.0)\n",
      "Requirement already satisfied: tokenizers<0.19,>=0.14 in c:\\users\\aadit\\appdata\\local\\programs\\python\\python310\\lib\\site-packages (from transformers) (0.15.2)\n",
      "Requirement already satisfied: safetensors>=0.4.1 in c:\\users\\aadit\\appdata\\local\\programs\\python\\python310\\lib\\site-packages (from transformers) (0.4.2)\n",
      "Requirement already satisfied: tqdm>=4.27 in c:\\users\\aadit\\appdata\\local\\programs\\python\\python310\\lib\\site-packages (from transformers) (4.66.2)\n",
      "Requirement already satisfied: fsspec>=2023.5.0 in c:\\users\\aadit\\appdata\\local\\programs\\python\\python310\\lib\\site-packages (from huggingface-hub<1.0,>=0.19.3->transformers) (2024.2.0)\n",
      "Requirement already satisfied: typing-extensions>=3.7.4.3 in c:\\users\\aadit\\appdata\\local\\programs\\python\\python310\\lib\\site-packages (from huggingface-hub<1.0,>=0.19.3->transformers) (4.9.0)\n",
      "Requirement already satisfied: colorama in c:\\users\\aadit\\appdata\\local\\programs\\python\\python310\\lib\\site-packages (from tqdm>=4.27->transformers) (0.4.6)\n",
      "Requirement already satisfied: charset-normalizer<4,>=2 in c:\\users\\aadit\\appdata\\local\\programs\\python\\python310\\lib\\site-packages (from requests->transformers) (3.3.2)\n",
      "Requirement already satisfied: idna<4,>=2.5 in c:\\users\\aadit\\appdata\\local\\programs\\python\\python310\\lib\\site-packages (from requests->transformers) (3.6)\n",
      "Requirement already satisfied: urllib3<3,>=1.21.1 in c:\\users\\aadit\\appdata\\local\\programs\\python\\python310\\lib\\site-packages (from requests->transformers) (2.2.0)\n",
      "Requirement already satisfied: certifi>=2017.4.17 in c:\\users\\aadit\\appdata\\local\\programs\\python\\python310\\lib\\site-packages (from requests->transformers) (2024.2.2)\n",
      "Requirement already satisfied: peft in c:\\users\\aadit\\appdata\\local\\programs\\python\\python310\\lib\\site-packages (0.9.0)\n",
      "Requirement already satisfied: numpy>=1.17 in c:\\users\\aadit\\appdata\\local\\programs\\python\\python310\\lib\\site-packages (from peft) (1.26.4)\n",
      "Requirement already satisfied: packaging>=20.0 in c:\\users\\aadit\\appdata\\local\\programs\\python\\python310\\lib\\site-packages (from peft) (23.2)\n",
      "Requirement already satisfied: psutil in c:\\users\\aadit\\appdata\\local\\programs\\python\\python310\\lib\\site-packages (from peft) (5.9.8)\n",
      "Requirement already satisfied: pyyaml in c:\\users\\aadit\\appdata\\local\\programs\\python\\python310\\lib\\site-packages (from peft) (6.0.1)\n",
      "Requirement already satisfied: torch>=1.13.0 in c:\\users\\aadit\\appdata\\local\\programs\\python\\python310\\lib\\site-packages (from peft) (2.2.1+cu121)\n",
      "Requirement already satisfied: transformers in c:\\users\\aadit\\appdata\\local\\programs\\python\\python310\\lib\\site-packages (from peft) (4.38.2)\n",
      "Requirement already satisfied: tqdm in c:\\users\\aadit\\appdata\\local\\programs\\python\\python310\\lib\\site-packages (from peft) (4.66.2)\n",
      "Requirement already satisfied: accelerate>=0.21.0 in c:\\users\\aadit\\appdata\\local\\programs\\python\\python310\\lib\\site-packages (from peft) (0.27.2)\n",
      "Requirement already satisfied: safetensors in c:\\users\\aadit\\appdata\\local\\programs\\python\\python310\\lib\\site-packages (from peft) (0.4.2)\n",
      "Requirement already satisfied: huggingface-hub>=0.17.0 in c:\\users\\aadit\\appdata\\local\\programs\\python\\python310\\lib\\site-packages (from peft) (0.21.4)\n",
      "Requirement already satisfied: filelock in c:\\users\\aadit\\appdata\\local\\programs\\python\\python310\\lib\\site-packages (from huggingface-hub>=0.17.0->peft) (3.9.0)\n",
      "Requirement already satisfied: fsspec>=2023.5.0 in c:\\users\\aadit\\appdata\\local\\programs\\python\\python310\\lib\\site-packages (from huggingface-hub>=0.17.0->peft) (2024.2.0)\n",
      "Requirement already satisfied: requests in c:\\users\\aadit\\appdata\\local\\programs\\python\\python310\\lib\\site-packages (from huggingface-hub>=0.17.0->peft) (2.31.0)\n",
      "Requirement already satisfied: typing-extensions>=3.7.4.3 in c:\\users\\aadit\\appdata\\local\\programs\\python\\python310\\lib\\site-packages (from huggingface-hub>=0.17.0->peft) (4.9.0)\n",
      "Requirement already satisfied: sympy in c:\\users\\aadit\\appdata\\local\\programs\\python\\python310\\lib\\site-packages (from torch>=1.13.0->peft) (1.12)\n",
      "Requirement already satisfied: networkx in c:\\users\\aadit\\appdata\\local\\programs\\python\\python310\\lib\\site-packages (from torch>=1.13.0->peft) (3.2.1)\n",
      "Requirement already satisfied: jinja2 in c:\\users\\aadit\\appdata\\local\\programs\\python\\python310\\lib\\site-packages (from torch>=1.13.0->peft) (3.1.3)\n",
      "Requirement already satisfied: colorama in c:\\users\\aadit\\appdata\\local\\programs\\python\\python310\\lib\\site-packages (from tqdm->peft) (0.4.6)\n",
      "Requirement already satisfied: regex!=2019.12.17 in c:\\users\\aadit\\appdata\\local\\programs\\python\\python310\\lib\\site-packages (from transformers->peft) (2023.12.25)\n",
      "Requirement already satisfied: tokenizers<0.19,>=0.14 in c:\\users\\aadit\\appdata\\local\\programs\\python\\python310\\lib\\site-packages (from transformers->peft) (0.15.2)\n",
      "Requirement already satisfied: MarkupSafe>=2.0 in c:\\users\\aadit\\appdata\\local\\programs\\python\\python310\\lib\\site-packages (from jinja2->torch>=1.13.0->peft) (2.1.5)\n",
      "Requirement already satisfied: charset-normalizer<4,>=2 in c:\\users\\aadit\\appdata\\local\\programs\\python\\python310\\lib\\site-packages (from requests->huggingface-hub>=0.17.0->peft) (3.3.2)\n",
      "Requirement already satisfied: idna<4,>=2.5 in c:\\users\\aadit\\appdata\\local\\programs\\python\\python310\\lib\\site-packages (from requests->huggingface-hub>=0.17.0->peft) (3.6)\n",
      "Requirement already satisfied: urllib3<3,>=1.21.1 in c:\\users\\aadit\\appdata\\local\\programs\\python\\python310\\lib\\site-packages (from requests->huggingface-hub>=0.17.0->peft) (2.2.0)\n",
      "Requirement already satisfied: certifi>=2017.4.17 in c:\\users\\aadit\\appdata\\local\\programs\\python\\python310\\lib\\site-packages (from requests->huggingface-hub>=0.17.0->peft) (2024.2.2)\n",
      "Requirement already satisfied: mpmath>=0.19 in c:\\users\\aadit\\appdata\\local\\programs\\python\\python310\\lib\\site-packages (from sympy->torch>=1.13.0->peft) (1.3.0)\n",
      "Requirement already satisfied: torch in c:\\users\\aadit\\appdata\\local\\programs\\python\\python310\\lib\\site-packages (2.2.1+cu121)\n",
      "Requirement already satisfied: filelock in c:\\users\\aadit\\appdata\\local\\programs\\python\\python310\\lib\\site-packages (from torch) (3.9.0)\n",
      "Requirement already satisfied: typing-extensions>=4.8.0 in c:\\users\\aadit\\appdata\\local\\programs\\python\\python310\\lib\\site-packages (from torch) (4.9.0)\n",
      "Requirement already satisfied: sympy in c:\\users\\aadit\\appdata\\local\\programs\\python\\python310\\lib\\site-packages (from torch) (1.12)\n",
      "Requirement already satisfied: networkx in c:\\users\\aadit\\appdata\\local\\programs\\python\\python310\\lib\\site-packages (from torch) (3.2.1)\n",
      "Requirement already satisfied: jinja2 in c:\\users\\aadit\\appdata\\local\\programs\\python\\python310\\lib\\site-packages (from torch) (3.1.3)\n",
      "Requirement already satisfied: fsspec in c:\\users\\aadit\\appdata\\local\\programs\\python\\python310\\lib\\site-packages (from torch) (2024.2.0)\n",
      "Requirement already satisfied: MarkupSafe>=2.0 in c:\\users\\aadit\\appdata\\local\\programs\\python\\python310\\lib\\site-packages (from jinja2->torch) (2.1.5)\n",
      "Requirement already satisfied: mpmath>=0.19 in c:\\users\\aadit\\appdata\\local\\programs\\python\\python310\\lib\\site-packages (from sympy->torch) (1.3.0)\n",
      "Requirement already satisfied: numpy in c:\\users\\aadit\\appdata\\local\\programs\\python\\python310\\lib\\site-packages (1.26.4)\n",
      "Requirement already satisfied: evaluate in c:\\users\\aadit\\appdata\\local\\programs\\python\\python310\\lib\\site-packages (0.4.1)\n",
      "Requirement already satisfied: datasets>=2.0.0 in c:\\users\\aadit\\appdata\\local\\programs\\python\\python310\\lib\\site-packages (from evaluate) (2.18.0)\n",
      "Requirement already satisfied: numpy>=1.17 in c:\\users\\aadit\\appdata\\local\\programs\\python\\python310\\lib\\site-packages (from evaluate) (1.26.4)\n",
      "Requirement already satisfied: dill in c:\\users\\aadit\\appdata\\local\\programs\\python\\python310\\lib\\site-packages (from evaluate) (0.3.8)\n",
      "Requirement already satisfied: pandas in c:\\users\\aadit\\appdata\\local\\programs\\python\\python310\\lib\\site-packages (from evaluate) (2.2.0)\n",
      "Requirement already satisfied: requests>=2.19.0 in c:\\users\\aadit\\appdata\\local\\programs\\python\\python310\\lib\\site-packages (from evaluate) (2.31.0)\n",
      "Requirement already satisfied: tqdm>=4.62.1 in c:\\users\\aadit\\appdata\\local\\programs\\python\\python310\\lib\\site-packages (from evaluate) (4.66.2)\n",
      "Requirement already satisfied: xxhash in c:\\users\\aadit\\appdata\\local\\programs\\python\\python310\\lib\\site-packages (from evaluate) (3.4.1)\n",
      "Requirement already satisfied: multiprocess in c:\\users\\aadit\\appdata\\local\\programs\\python\\python310\\lib\\site-packages (from evaluate) (0.70.16)\n",
      "Requirement already satisfied: fsspec>=2021.05.0 in c:\\users\\aadit\\appdata\\local\\programs\\python\\python310\\lib\\site-packages (from fsspec[http]>=2021.05.0->evaluate) (2024.2.0)\n",
      "Requirement already satisfied: huggingface-hub>=0.7.0 in c:\\users\\aadit\\appdata\\local\\programs\\python\\python310\\lib\\site-packages (from evaluate) (0.21.4)\n",
      "Requirement already satisfied: packaging in c:\\users\\aadit\\appdata\\local\\programs\\python\\python310\\lib\\site-packages (from evaluate) (23.2)\n",
      "Requirement already satisfied: responses<0.19 in c:\\users\\aadit\\appdata\\local\\programs\\python\\python310\\lib\\site-packages (from evaluate) (0.18.0)\n",
      "Requirement already satisfied: filelock in c:\\users\\aadit\\appdata\\local\\programs\\python\\python310\\lib\\site-packages (from datasets>=2.0.0->evaluate) (3.9.0)\n",
      "Requirement already satisfied: pyarrow>=12.0.0 in c:\\users\\aadit\\appdata\\local\\programs\\python\\python310\\lib\\site-packages (from datasets>=2.0.0->evaluate) (15.0.1)\n",
      "Requirement already satisfied: pyarrow-hotfix in c:\\users\\aadit\\appdata\\local\\programs\\python\\python310\\lib\\site-packages (from datasets>=2.0.0->evaluate) (0.6)\n",
      "Requirement already satisfied: aiohttp in c:\\users\\aadit\\appdata\\local\\programs\\python\\python310\\lib\\site-packages (from datasets>=2.0.0->evaluate) (3.9.3)\n",
      "Requirement already satisfied: pyyaml>=5.1 in c:\\users\\aadit\\appdata\\local\\programs\\python\\python310\\lib\\site-packages (from datasets>=2.0.0->evaluate) (6.0.1)\n",
      "Requirement already satisfied: typing-extensions>=3.7.4.3 in c:\\users\\aadit\\appdata\\local\\programs\\python\\python310\\lib\\site-packages (from huggingface-hub>=0.7.0->evaluate) (4.9.0)\n",
      "Requirement already satisfied: charset-normalizer<4,>=2 in c:\\users\\aadit\\appdata\\local\\programs\\python\\python310\\lib\\site-packages (from requests>=2.19.0->evaluate) (3.3.2)\n",
      "Requirement already satisfied: idna<4,>=2.5 in c:\\users\\aadit\\appdata\\local\\programs\\python\\python310\\lib\\site-packages (from requests>=2.19.0->evaluate) (3.6)\n",
      "Requirement already satisfied: urllib3<3,>=1.21.1 in c:\\users\\aadit\\appdata\\local\\programs\\python\\python310\\lib\\site-packages (from requests>=2.19.0->evaluate) (2.2.0)\n",
      "Requirement already satisfied: certifi>=2017.4.17 in c:\\users\\aadit\\appdata\\local\\programs\\python\\python310\\lib\\site-packages (from requests>=2.19.0->evaluate) (2024.2.2)\n",
      "Requirement already satisfied: colorama in c:\\users\\aadit\\appdata\\local\\programs\\python\\python310\\lib\\site-packages (from tqdm>=4.62.1->evaluate) (0.4.6)\n",
      "Requirement already satisfied: python-dateutil>=2.8.2 in c:\\users\\aadit\\appdata\\local\\programs\\python\\python310\\lib\\site-packages (from pandas->evaluate) (2.8.2)\n",
      "Requirement already satisfied: pytz>=2020.1 in c:\\users\\aadit\\appdata\\local\\programs\\python\\python310\\lib\\site-packages (from pandas->evaluate) (2024.1)\n",
      "Requirement already satisfied: tzdata>=2022.7 in c:\\users\\aadit\\appdata\\local\\programs\\python\\python310\\lib\\site-packages (from pandas->evaluate) (2023.4)\n",
      "Requirement already satisfied: aiosignal>=1.1.2 in c:\\users\\aadit\\appdata\\local\\programs\\python\\python310\\lib\\site-packages (from aiohttp->datasets>=2.0.0->evaluate) (1.3.1)\n",
      "Requirement already satisfied: attrs>=17.3.0 in c:\\users\\aadit\\appdata\\local\\programs\\python\\python310\\lib\\site-packages (from aiohttp->datasets>=2.0.0->evaluate) (23.2.0)\n",
      "Requirement already satisfied: frozenlist>=1.1.1 in c:\\users\\aadit\\appdata\\local\\programs\\python\\python310\\lib\\site-packages (from aiohttp->datasets>=2.0.0->evaluate) (1.4.1)\n",
      "Requirement already satisfied: multidict<7.0,>=4.5 in c:\\users\\aadit\\appdata\\local\\programs\\python\\python310\\lib\\site-packages (from aiohttp->datasets>=2.0.0->evaluate) (6.0.5)\n",
      "Requirement already satisfied: yarl<2.0,>=1.0 in c:\\users\\aadit\\appdata\\local\\programs\\python\\python310\\lib\\site-packages (from aiohttp->datasets>=2.0.0->evaluate) (1.9.4)\n",
      "Requirement already satisfied: async-timeout<5.0,>=4.0 in c:\\users\\aadit\\appdata\\local\\programs\\python\\python310\\lib\\site-packages (from aiohttp->datasets>=2.0.0->evaluate) (4.0.3)\n",
      "Requirement already satisfied: six>=1.5 in c:\\users\\aadit\\appdata\\local\\programs\\python\\python310\\lib\\site-packages (from python-dateutil>=2.8.2->pandas->evaluate) (1.16.0)\n"
     ]
    }
   ],
   "source": [
    "!pip install transformers\n",
    "!pip install peft\n",
    "!pip install torch\n",
    "!pip install numpy\n",
    "!pip install evaluate\n",
    "from datasets import load_dataset, DatasetDict, Dataset\n",
    "from transformers import AutoTokenizer, AutoConfig, AutoModelForSequenceClassification,\\\n",
    "DataCollatorWithPadding,TrainingArguments,Trainer"
   ]
  },
  {
   "cell_type": "code",
   "execution_count": 2,
   "id": "37e5ac2f-8e77-484e-9755-0ca2c2fd8e91",
   "metadata": {},
   "outputs": [],
   "source": [
    "from peft import PeftModel, PeftConfig, get_peft_model,LoraConfig\n",
    "import evaluate\n",
    "import torch\n",
    "import numpy as np"
   ]
  },
  {
   "cell_type": "code",
   "execution_count": 3,
   "id": "03e62914-af8b-4a75-b14f-e25068ca3110",
   "metadata": {},
   "outputs": [],
   "source": [
    "#Choosing model to fine tune\n",
    "model_choice = 'distilbert-base-uncased'"
   ]
  },
  {
   "cell_type": "code",
   "execution_count": 4,
   "id": "3179eaed-3313-4377-8ac8-dcac87ddbb31",
   "metadata": {},
   "outputs": [],
   "source": [
    "#define  label maps\n",
    "idLabel={0:\"Bad\", 1 :\"Good\"}\n",
    "labelId={0:\"Bad\", 1 :\"Good\"}\n"
   ]
  },
  {
   "cell_type": "code",
   "execution_count": 5,
   "id": "342cbba2-04e5-42cb-9693-1b11046acdbe",
   "metadata": {},
   "outputs": [
    {
     "name": "stderr",
     "output_type": "stream",
     "text": [
      "Some weights of DistilBertForSequenceClassification were not initialized from the model checkpoint at distilbert-base-uncased and are newly initialized: ['classifier.bias', 'classifier.weight', 'pre_classifier.bias', 'pre_classifier.weight']\n",
      "You should probably TRAIN this model on a down-stream task to be able to use it for predictions and inference.\n"
     ]
    }
   ],
   "source": [
    "#generate classificaaiton model \n",
    "model = AutoModelForSequenceClassification.from_pretrained(\n",
    "    model_choice,num_labels = 2, id2label = idLabel, label2id = labelId)"
   ]
  },
  {
   "cell_type": "code",
   "execution_count": 6,
   "id": "16332bfc-0a3b-4a01-9be5-2016621178f3",
   "metadata": {},
   "outputs": [],
   "source": [
    "# Getting dat aready for classification\n",
    "\n",
    "import pandas as pd\n",
    "from sklearn.model_selection import train_test_split\n",
    "from datasets import Dataset\n",
    "\n",
    "data = pd.read_csv(\"Restaurant_Reviews.tsv\", delimiter='\\t')\n",
    "\n",
    "train_data, val_data = train_test_split(data, test_size=0.2, random_state=42)  # Adjust test_size as needed\n",
    "\n",
    "train_dict = {\"text\": train_data['Review'], \"label\": train_data['Liked']}\n",
    "val_dict = {\"text\": val_data['Review'], \"label\": val_data['Liked']}\n",
    "\n",
    "dataset={\n",
    "    \"train\":Dataset.from_dict(train_dict),\n",
    "    \"validation\":Dataset.from_dict(val_dict)\n",
    "}\n",
    "\n",
    "hf_dataset = DatasetDict(dataset)"
   ]
  },
  {
   "cell_type": "code",
   "execution_count": 7,
   "id": "05c14cd1-2710-4a5d-8dda-a05499028a2c",
   "metadata": {},
   "outputs": [],
   "source": [
    "# Initialize a tokenizer object from a pre-trained model\n",
    "tokenizer = AutoTokenizer.from_pretrained(model_choice, add_prefix_space =True)"
   ]
  },
  {
   "cell_type": "code",
   "execution_count": 8,
   "id": "366388d0-a603-484b-b67d-c0a5d4cdb8cd",
   "metadata": {},
   "outputs": [
    {
     "data": {
      "application/vnd.jupyter.widget-view+json": {
       "model_id": "f4f1597b544a4babb75de62c932c64c9",
       "version_major": 2,
       "version_minor": 0
      },
      "text/plain": [
       "Map:   0%|          | 0/800 [00:00<?, ? examples/s]"
      ]
     },
     "metadata": {},
     "output_type": "display_data"
    },
    {
     "data": {
      "application/vnd.jupyter.widget-view+json": {
       "model_id": "7692a5078bbc4fc490d9e3b2547e61b8",
       "version_major": 2,
       "version_minor": 0
      },
      "text/plain": [
       "Map:   0%|          | 0/200 [00:00<?, ? examples/s]"
      ]
     },
     "metadata": {},
     "output_type": "display_data"
    }
   ],
   "source": [
    "def tokenizer_fun(examples):\n",
    "    text = examples[\"text\"]\n",
    "    tokenizer.truncation_side = 'left'\n",
    "    tokenized_inputs = tokenizer(\n",
    "        text,\n",
    "        return_tensors =\"np\",  \n",
    "        truncation=True,       \n",
    "        max_length=512         \n",
    "        )\n",
    "    return tokenized_inputs\n",
    "if tokenizer.pad_token is None:\n",
    "    tokenizer.add_special_tokens({'pad_token': '[PAD]'})\n",
    "    model.resize_token_embeddings(len(tokenizer))\n",
    "    \n",
    "tokenized_dataset =  hf_dataset.map(tokenizer_fun, batched = True)"
   ]
  },
  {
   "cell_type": "code",
   "execution_count": 9,
   "id": "c14016ae-fb41-4740-9609-fc626cd24510",
   "metadata": {},
   "outputs": [],
   "source": [
    "data_collator = DataCollatorWithPadding(tokenizer = tokenizer)"
   ]
  },
  {
   "cell_type": "code",
   "execution_count": 11,
   "id": "36bf5c46-23ce-4439-acc1-fa775f317c5c",
   "metadata": {},
   "outputs": [],
   "source": [
    "# Load the accuracy metric from an evaluation module\n",
    "accuracy = evaluate.load(\"accuracy\")\n",
    "\n",
    "def compute_metrics(p):\n",
    "    predictions, labels = p\n",
    "    predictions = np.argmax(predictions, axis=1)\n",
    "    return {\"accuracy\": accuracy.compute(predictions=predictions, references=labels)}\n"
   ]
  },
  {
   "cell_type": "code",
   "execution_count": 12,
   "id": "c96e69e8-1636-4842-b382-e8e58d64a363",
   "metadata": {
    "scrolled": true
   },
   "outputs": [
    {
     "name": "stdout",
     "output_type": "stream",
     "text": [
      "Untrained model predictions:\n",
      "----------------------------\n",
      "The food was delicious and the service was excellent. I will definitely be back! - Good\n",
      "Not a fan, don't recommed. - Good\n",
      "Food was as as soggy as teh  - Good\n",
      "This place is a hidden gem! The food was amazing and the prices were reasonable. - Good\n",
      "This restaurant is overpriced and the food was bland. I wouldn't recommend it.  - Good\n",
      "I was disappointed with the food and the service was slow. I won't be returning.  - Good\n"
     ]
    }
   ],
   "source": [
    "import torch\n",
    "\n",
    "# Define the device\n",
    "device = torch.device(\"cuda\" if torch.cuda.is_available() else \"cpu\")\n",
    "# Move the model to the device\n",
    "model.to(device)\n",
    "\n",
    "# define list of examples\n",
    "text_list = [ \"The food was delicious and the service was excellent. I will definitely be back!\",\n",
    "             \"Not a fan, don't recommed.\",\n",
    "            \"Food was as as soggy as teh \",\n",
    "            \"This place is a hidden gem! The food was amazing and the prices were reasonable.\",\n",
    "            \"This restaurant is overpriced and the food was bland. I wouldn't recommend it. \",\n",
    "            \"I was disappointed with the food and the service was slow. I won't be returning. \"]\n",
    "\n",
    "test_harder_list = [\n",
    "    \"The ambiance was quirky, but it somehow worked. The food was decent, but forgettable.\",\n",
    "    \"This place is definitely an experience. I wouldn't say it's good or bad, just... unique.\",\n",
    "    \"It met expectations. Nothing special, but nothing terrible either.\",\n",
    "    \"This restaurant is definitely on the pricier side, but the service was impeccable.\",\n",
    "    \"It's a shame they changed the menu. I used to love coming here, but now I'm not sure I'll be back.\",\n",
    "    \"This place has a real 'hole-in-the-wall' vibe, but the food is surprisingly good.\",\n",
    "    \"It was a fun night out with friends, but the food wasn't the main attraction.\",\n",
    "    \"I can't decide if I loved it or hated it. It was definitely something different.\",\n",
    "    \"This place gets a lot of hype, but I honestly don't get it. Maybe I just ordered the wrong thing.\",\n",
    "    \"It's not fancy, but it's reliable. I know what I'm going to get every time I come here.\"\n",
    "]\n",
    "print(\"Untrained model predictions:\")\n",
    "print(\"----------------------------\")\n",
    "for text in text_list:\n",
    "    # tokenize text\n",
    "    inputs = tokenizer.encode(text, return_tensors=\"pt\").to(device)\n",
    "    # compute logits\n",
    "    logits = model(inputs).logits\n",
    "    # convert logits to label\n",
    "    predictions = torch.argmax(logits)\n",
    "\n",
    "    print(text + \" - \" + idLabel[predictions.tolist()])"
   ]
  },
  {
   "cell_type": "code",
   "execution_count": 13,
   "id": "b328bf51-1664-42b2-9a4c-8001cd7d2a35",
   "metadata": {},
   "outputs": [],
   "source": [
    "peft_config = LoraConfig(task_type=\"SEQ_CLS\",\n",
    "                        r=4,\n",
    "                        lora_alpha=32,\n",
    "                        lora_dropout=0.01,\n",
    "                        target_modules = ['q_lin'])"
   ]
  },
  {
   "cell_type": "code",
   "execution_count": 14,
   "id": "39b25ac2-93f4-4197-ac40-02c9b1458140",
   "metadata": {},
   "outputs": [
    {
     "name": "stdout",
     "output_type": "stream",
     "text": [
      "trainable params: 628,994 || all params: 67,584,004 || trainable%: 0.9306847223789819\n"
     ]
    }
   ],
   "source": [
    "model = get_peft_model(model, peft_config)\n",
    "model.print_trainable_parameters()"
   ]
  },
  {
   "cell_type": "code",
   "execution_count": 15,
   "id": "51a4d129-5fa3-4a2e-8ba6-b70239299f8b",
   "metadata": {},
   "outputs": [],
   "source": [
    "# hyperparameters\n",
    "lr = 1e-3\n",
    "batch_size = 4\n",
    "num_epochs = 10"
   ]
  },
  {
   "cell_type": "code",
   "execution_count": 16,
   "id": "06c06ce3-dd5c-455b-9518-f1583841c4ca",
   "metadata": {},
   "outputs": [],
   "source": [
    "# define training arguments\n",
    "training_args = TrainingArguments(\n",
    "    output_dir= model_choice + \"-lora-text-classification\",\n",
    "    learning_rate=lr,\n",
    "    per_device_train_batch_size=batch_size,\n",
    "    per_device_eval_batch_size=batch_size,\n",
    "    num_train_epochs=num_epochs,\n",
    "    weight_decay=0.01,\n",
    "    evaluation_strategy=\"epoch\",\n",
    "    save_strategy=\"epoch\",\n",
    "    load_best_model_at_end=True,\n",
    ")"
   ]
  },
  {
   "cell_type": "code",
   "execution_count": 17,
   "id": "9e9a8bd2-fcb6-4c9e-947e-f78fc2c17dc8",
   "metadata": {},
   "outputs": [
    {
     "data": {
      "text/html": [
       "\n",
       "    <div>\n",
       "      \n",
       "      <progress value='2000' max='2000' style='width:300px; height:20px; vertical-align: middle;'></progress>\n",
       "      [2000/2000 00:48, Epoch 10/10]\n",
       "    </div>\n",
       "    <table border=\"1\" class=\"dataframe\">\n",
       "  <thead>\n",
       " <tr style=\"text-align: left;\">\n",
       "      <th>Epoch</th>\n",
       "      <th>Training Loss</th>\n",
       "      <th>Validation Loss</th>\n",
       "      <th>Accuracy</th>\n",
       "    </tr>\n",
       "  </thead>\n",
       "  <tbody>\n",
       "    <tr>\n",
       "      <td>1</td>\n",
       "      <td>No log</td>\n",
       "      <td>0.235645</td>\n",
       "      <td>{'accuracy': 0.91}</td>\n",
       "    </tr>\n",
       "    <tr>\n",
       "      <td>2</td>\n",
       "      <td>No log</td>\n",
       "      <td>0.384195</td>\n",
       "      <td>{'accuracy': 0.895}</td>\n",
       "    </tr>\n",
       "    <tr>\n",
       "      <td>3</td>\n",
       "      <td>0.258500</td>\n",
       "      <td>0.398680</td>\n",
       "      <td>{'accuracy': 0.915}</td>\n",
       "    </tr>\n",
       "    <tr>\n",
       "      <td>4</td>\n",
       "      <td>0.258500</td>\n",
       "      <td>0.531945</td>\n",
       "      <td>{'accuracy': 0.91}</td>\n",
       "    </tr>\n",
       "    <tr>\n",
       "      <td>5</td>\n",
       "      <td>0.051500</td>\n",
       "      <td>0.476825</td>\n",
       "      <td>{'accuracy': 0.92}</td>\n",
       "    </tr>\n",
       "    <tr>\n",
       "      <td>6</td>\n",
       "      <td>0.051500</td>\n",
       "      <td>0.477037</td>\n",
       "      <td>{'accuracy': 0.935}</td>\n",
       "    </tr>\n",
       "    <tr>\n",
       "      <td>7</td>\n",
       "      <td>0.051500</td>\n",
       "      <td>0.585966</td>\n",
       "      <td>{'accuracy': 0.92}</td>\n",
       "    </tr>\n",
       "    <tr>\n",
       "      <td>8</td>\n",
       "      <td>0.008800</td>\n",
       "      <td>0.555671</td>\n",
       "      <td>{'accuracy': 0.93}</td>\n",
       "    </tr>\n",
       "    <tr>\n",
       "      <td>9</td>\n",
       "      <td>0.008800</td>\n",
       "      <td>0.541229</td>\n",
       "      <td>{'accuracy': 0.935}</td>\n",
       "    </tr>\n",
       "    <tr>\n",
       "      <td>10</td>\n",
       "      <td>0.002600</td>\n",
       "      <td>0.519680</td>\n",
       "      <td>{'accuracy': 0.935}</td>\n",
       "    </tr>\n",
       "  </tbody>\n",
       "</table><p>"
      ],
      "text/plain": [
       "<IPython.core.display.HTML object>"
      ]
     },
     "metadata": {},
     "output_type": "display_data"
    },
    {
     "name": "stderr",
     "output_type": "stream",
     "text": [
      "Checkpoint destination directory distilbert-base-uncased-lora-text-classification\\checkpoint-200 already exists and is non-empty. Saving will proceed but saved results may be invalid.\n",
      "Checkpoint destination directory distilbert-base-uncased-lora-text-classification\\checkpoint-400 already exists and is non-empty. Saving will proceed but saved results may be invalid.\n",
      "Checkpoint destination directory distilbert-base-uncased-lora-text-classification\\checkpoint-600 already exists and is non-empty. Saving will proceed but saved results may be invalid.\n",
      "Checkpoint destination directory distilbert-base-uncased-lora-text-classification\\checkpoint-800 already exists and is non-empty. Saving will proceed but saved results may be invalid.\n",
      "Checkpoint destination directory distilbert-base-uncased-lora-text-classification\\checkpoint-1000 already exists and is non-empty. Saving will proceed but saved results may be invalid.\n",
      "Checkpoint destination directory distilbert-base-uncased-lora-text-classification\\checkpoint-1200 already exists and is non-empty. Saving will proceed but saved results may be invalid.\n",
      "Checkpoint destination directory distilbert-base-uncased-lora-text-classification\\checkpoint-1400 already exists and is non-empty. Saving will proceed but saved results may be invalid.\n",
      "Checkpoint destination directory distilbert-base-uncased-lora-text-classification\\checkpoint-1600 already exists and is non-empty. Saving will proceed but saved results may be invalid.\n",
      "Checkpoint destination directory distilbert-base-uncased-lora-text-classification\\checkpoint-1800 already exists and is non-empty. Saving will proceed but saved results may be invalid.\n",
      "Checkpoint destination directory distilbert-base-uncased-lora-text-classification\\checkpoint-2000 already exists and is non-empty. Saving will proceed but saved results may be invalid.\n"
     ]
    },
    {
     "data": {
      "text/plain": [
       "TrainOutput(global_step=2000, training_loss=0.08033175712823867, metrics={'train_runtime': 48.2187, 'train_samples_per_second': 165.911, 'train_steps_per_second': 41.478, 'total_flos': 50637174998208.0, 'train_loss': 0.08033175712823867, 'epoch': 10.0})"
      ]
     },
     "execution_count": 17,
     "metadata": {},
     "output_type": "execute_result"
    }
   ],
   "source": [
    "# creater trainer object\n",
    "trainer = Trainer(\n",
    "    model=model,\n",
    "    args=training_args,\n",
    "    train_dataset=tokenized_dataset[\"train\"],\n",
    "    eval_dataset=tokenized_dataset[\"validation\"],\n",
    "    tokenizer=tokenizer,\n",
    "    data_collator=data_collator, # this will dynamically pad examples in each batch to be equal length\n",
    "    compute_metrics=compute_metrics,\n",
    ")\n",
    "\n",
    "# train model\n",
    "trainer.train()"
   ]
  },
  {
   "cell_type": "code",
   "execution_count": 18,
   "id": "13d21230-d95d-49c6-9c19-dc9e917e908c",
   "metadata": {},
   "outputs": [
    {
     "name": "stdout",
     "output_type": "stream",
     "text": [
      "Trained model predictions:\n",
      "--------------------------\n",
      "The food was delicious and the service was excellent. I will definitely be back! - Good\n",
      "Not a fan, don't recommed. - Bad\n",
      "Food was as as soggy as teh  - Bad\n",
      "This place is a hidden gem! The food was amazing and the prices were reasonable. - Good\n",
      "This restaurant is overpriced and the food was bland. I wouldn't recommend it.  - Bad\n",
      "I was disappointed with the food and the service was slow. I won't be returning.  - Bad\n"
     ]
    }
   ],
   "source": [
    "model.to(device)\n",
    "print(\"Trained model predictions:\")\n",
    "print(\"--------------------------\")\n",
    "for text in text_list:\n",
    "    inputs = tokenizer.encode(text, return_tensors=\"pt\").to(device) # moving to mps for Mac (can alternatively do 'cpu')\n",
    "\n",
    "    logits = model(inputs).logits\n",
    "    predictions = torch.max(logits,1).indices\n",
    "\n",
    "    print(text + \" - \" + idLabel[predictions.tolist()[0]])"
   ]
  },
  {
   "cell_type": "code",
   "execution_count": null,
   "id": "b8baceaa-2b01-400f-a752-934eb078edc4",
   "metadata": {},
   "outputs": [],
   "source": []
  }
 ],
 "metadata": {
  "kernelspec": {
   "display_name": "Python 3 (ipykernel)",
   "language": "python",
   "name": "python3"
  },
  "language_info": {
   "codemirror_mode": {
    "name": "ipython",
    "version": 3
   },
   "file_extension": ".py",
   "mimetype": "text/x-python",
   "name": "python",
   "nbconvert_exporter": "python",
   "pygments_lexer": "ipython3",
   "version": "3.10.11"
  }
 },
 "nbformat": 4,
 "nbformat_minor": 5
}
