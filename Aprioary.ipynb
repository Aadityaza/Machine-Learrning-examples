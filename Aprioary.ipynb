{
  "nbformat": 4,
  "nbformat_minor": 0,
  "metadata": {
    "colab": {
      "provenance": []
    },
    "kernelspec": {
      "name": "python3",
      "display_name": "Python 3"
    },
    "language_info": {
      "name": "python"
    }
  },
  "cells": [
    {
      "cell_type": "code",
      "execution_count": null,
      "metadata": {
        "id": "w5c9shYu7ULh",
        "colab": {
          "base_uri": "https://localhost:8080/"
        },
        "outputId": "70a11c1e-e7e2-4197-90eb-c2224ef8e5b7"
      },
      "outputs": [
        {
          "output_type": "stream",
          "name": "stdout",
          "text": [
            "['I1', 'I2', 'I3', 'I4', 'I5']\n"
          ]
        }
      ],
      "source": [
        "#@title loading transaction data\n",
        "\n",
        "data = [\n",
        "        ['t1',['I1','I2','I5']],\n",
        "        ['t2',['I2','I4']],\n",
        "        ['t3',['I2','I3']],\n",
        "        ['t4',['I1','I2','I4']],\n",
        "        ['t5',['I1','I3']],\n",
        "        ['t6',['I2','I3']],\n",
        "        ['t7',['I1','I3']],\n",
        "        ['t8',['I1','I2','I3','I5']],\n",
        "        ['t9',['I1','I2','I3']]\n",
        "        ]\n",
        "init = []\n",
        "for i in data:\n",
        "    for q in i[1]:\n",
        "        if(q not in init):\n",
        "            init.append(q)\n",
        "init = sorted(init)\n",
        "print(init)"
      ]
    },
    {
      "cell_type": "code",
      "source": [
        "#@title Choosing Support\n",
        "sp = 0.4\n",
        "s = int(sp*len(init))\n",
        "s"
      ],
      "metadata": {
        "colab": {
          "base_uri": "https://localhost:8080/"
        },
        "id": "swOun8tEeZqq",
        "outputId": "084444b2-7f27-47f7-d5b1-c28da6940b9c"
      },
      "execution_count": null,
      "outputs": [
        {
          "output_type": "execute_result",
          "data": {
            "text/plain": [
              "2"
            ]
          },
          "metadata": {},
          "execution_count": 3
        }
      ]
    },
    {
      "cell_type": "code",
      "source": [
        "#@title Aprioari\n",
        "from collections import Counter\n",
        "c = Counter()\n",
        "for i in init:\n",
        "    for d in data:\n",
        "        if(i in d[1]):\n",
        "            c[i]+=1\n",
        "print(\"C1:\")\n",
        "for i in c:\n",
        "    print(str([i])+\": \"+str(c[i]))\n",
        "print()\n",
        "l = Counter()\n",
        "for i in c:\n",
        "    if(c[i] >= s):\n",
        "        l[frozenset([i])]+=c[i]\n",
        "print(\"L1:\")\n",
        "for i in l:\n",
        "    print(str(list(i))+\": \"+str(l[i]))\n",
        "print()\n",
        "pl = l\n",
        "pos = 1\n",
        "for count in range (2,1000):\n",
        "    nc = set()\n",
        "    temp = list(l)\n",
        "    for i in range(0,len(temp)):\n",
        "        for j in range(i+1,len(temp)):\n",
        "            t = temp[i].union(temp[j])\n",
        "            if(len(t) == count):\n",
        "                nc.add(temp[i].union(temp[j]))\n",
        "    nc = list(nc)\n",
        "    c = Counter()\n",
        "    for i in nc:\n",
        "        c[i] = 0\n",
        "        for q in data:\n",
        "            temp = set(q[1])\n",
        "            if(i.issubset(temp)):\n",
        "                c[i]+=1\n",
        "    print(\"Frequency :\"+str(count)+\":\")\n",
        "    for i in c:\n",
        "        print(str(list(i))+\": \"+str(c[i]))\n",
        "    print()\n",
        "    l = Counter()\n",
        "    for i in c:\n",
        "        if(c[i] >= s):\n",
        "            l[i]+=c[i]\n",
        "    print(\"List that satisfy min support \"+str(count)+\":\")\n",
        "    for i in l:\n",
        "        print(str(list(i))+\": \"+str(l[i]))\n",
        "    print()\n",
        "    if(len(l) == 0):\n",
        "        break\n",
        "    pl = l\n",
        "    pos = count\n",
        "print(\"Result: \")\n",
        "print(\"List that satisfy min support \"+str(pos)+\":\")\n",
        "for i in pl:\n",
        "    print(str(list(i))+\": \"+str(pl[i]))\n",
        "print()"
      ],
      "metadata": {
        "colab": {
          "base_uri": "https://localhost:8080/"
        },
        "id": "kqy68RiTeiof",
        "outputId": "d27ae273-7b11-477e-cf2c-5b43f4f9cfaf"
      },
      "execution_count": null,
      "outputs": [
        {
          "output_type": "stream",
          "name": "stdout",
          "text": [
            "C1:\n",
            "['I1']: 6\n",
            "['I2']: 7\n",
            "['I3']: 6\n",
            "['I4']: 2\n",
            "['I5']: 2\n",
            "\n",
            "L1:\n",
            "['I1']: 6\n",
            "['I2']: 7\n",
            "['I3']: 6\n",
            "['I4']: 2\n",
            "['I5']: 2\n",
            "\n",
            "Frequency :2:\n",
            "['I5', 'I3']: 1\n",
            "['I1', 'I3']: 4\n",
            "['I1', 'I2']: 4\n",
            "['I1', 'I4']: 1\n",
            "['I5', 'I4']: 0\n",
            "['I2', 'I4']: 2\n",
            "['I2', 'I3']: 4\n",
            "['I3', 'I4']: 0\n",
            "['I1', 'I5']: 2\n",
            "['I2', 'I5']: 2\n",
            "\n",
            "List that satisfy min support 2:\n",
            "['I1', 'I3']: 4\n",
            "['I1', 'I2']: 4\n",
            "['I2', 'I4']: 2\n",
            "['I2', 'I3']: 4\n",
            "['I1', 'I5']: 2\n",
            "['I2', 'I5']: 2\n",
            "\n",
            "Frequency :3:\n",
            "['I2', 'I3', 'I4']: 0\n",
            "['I1', 'I2', 'I5']: 2\n",
            "['I1', 'I3', 'I5']: 1\n",
            "['I2', 'I3', 'I5']: 1\n",
            "['I2', 'I4', 'I5']: 0\n",
            "['I1', 'I2', 'I4']: 1\n",
            "['I2', 'I1', 'I3']: 2\n",
            "\n",
            "List that satisfy min support 3:\n",
            "['I1', 'I2', 'I5']: 2\n",
            "['I2', 'I1', 'I3']: 2\n",
            "\n",
            "Frequency :4:\n",
            "['I2', 'I5', 'I1', 'I3']: 1\n",
            "\n",
            "List that satisfy min support 4:\n",
            "\n",
            "Result: \n",
            "List that satisfy min support 3:\n",
            "['I1', 'I2', 'I5']: 2\n",
            "['I2', 'I1', 'I3']: 2\n",
            "\n"
          ]
        }
      ]
    },
    {
      "cell_type": "code",
      "source": [
        "#@title association rule\n",
        "from itertools import combinations\n",
        "for l in pl:\n",
        "    c = [frozenset(q) for q in combinations(l,len(l)-1)]\n",
        "    mmax = 0\n",
        "    for a in c:\n",
        "        b = l-a\n",
        "        ab = l\n",
        "        sab = 0\n",
        "        sa = 0\n",
        "        sb = 0\n",
        "        for q in data:\n",
        "            temp = set(q[1])\n",
        "            if(a.issubset(temp)):\n",
        "                sa+=1\n",
        "            if(b.issubset(temp)):\n",
        "                sb+=1\n",
        "            if(ab.issubset(temp)):\n",
        "                sab+=1\n",
        "        temp = sab/sa*100\n",
        "        if(temp > mmax):\n",
        "            mmax = temp\n",
        "        temp = sab/sb*100\n",
        "        if(temp > mmax):\n",
        "            mmax = temp\n",
        "        print(str(list(a))+\" -> \"+str(list(b))+\" = \"+str(sab/sa*100)+\"%\")\n",
        "        print(str(list(b))+\" -> \"+str(list(a))+\" = \"+str(sab/sb*100)+\"%\")\n",
        "    curr = 1\n",
        "    print(\"choosing:\", end=' ')\n",
        "    for a in c:\n",
        "        b = l-a\n",
        "        ab = l\n",
        "        sab = 0\n",
        "        sa = 0\n",
        "        sb = 0\n",
        "        for q in data:\n",
        "            temp = set(q[1])\n",
        "            if(a.issubset(temp)):\n",
        "                sa+=1\n",
        "            if(b.issubset(temp)):\n",
        "                sb+=1\n",
        "            if(ab.issubset(temp)):\n",
        "                sab+=1\n",
        "        temp = sab/sa*100\n",
        "        if(temp == mmax):\n",
        "            print(curr, end = ' ')\n",
        "        curr += 1\n",
        "        temp = sab/sb*100\n",
        "        if(temp == mmax):\n",
        "            print(curr, end = ' ')\n",
        "        curr += 1\n",
        "    print()\n",
        "    print()"
      ],
      "metadata": {
        "id": "jD_ZHNYaef_Q",
        "outputId": "f42141f9-0640-4e6b-e4ed-1884d51f4095",
        "colab": {
          "base_uri": "https://localhost:8080/"
        }
      },
      "execution_count": null,
      "outputs": [
        {
          "output_type": "stream",
          "name": "stdout",
          "text": [
            "['I1', 'I2'] -> ['I5'] = 50.0%\n",
            "['I5'] -> ['I1', 'I2'] = 100.0%\n",
            "['I1', 'I5'] -> ['I2'] = 100.0%\n",
            "['I2'] -> ['I1', 'I5'] = 28.57142857142857%\n",
            "['I2', 'I5'] -> ['I1'] = 100.0%\n",
            "['I1'] -> ['I2', 'I5'] = 33.33333333333333%\n",
            "choosing: 2 3 5 \n",
            "\n",
            "['I2', 'I1'] -> ['I3'] = 50.0%\n",
            "['I3'] -> ['I2', 'I1'] = 33.33333333333333%\n",
            "['I2', 'I3'] -> ['I1'] = 50.0%\n",
            "['I1'] -> ['I2', 'I3'] = 33.33333333333333%\n",
            "['I1', 'I3'] -> ['I2'] = 50.0%\n",
            "['I2'] -> ['I1', 'I3'] = 28.57142857142857%\n",
            "choosing: 1 3 5 \n",
            "\n"
          ]
        }
      ]
    }
  ]
}